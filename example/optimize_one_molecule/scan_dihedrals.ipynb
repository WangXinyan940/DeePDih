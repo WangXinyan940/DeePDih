{
 "cells": [
  {
   "cell_type": "code",
   "execution_count": null,
   "metadata": {},
   "outputs": [],
   "source": [
    "import deepdih\n",
    "from rdkit import Chem"
   ]
  },
  {
   "cell_type": "code",
   "execution_count": null,
   "metadata": {},
   "outputs": [],
   "source": [
    "rdmol = Chem.MolFromMolFile(\"ligand.mol\", removeHs=False, sanitize=True)\n",
    "fragments = deepdih.mollib.get_fragments(rdmol)\n",
    "for n_frag, frag in enumerate(fragments):\n",
    "    deepdih.utils.write_sdf(frag, f\"fragment_{n_frag}.mol\")"
   ]
  },
  {
   "cell_type": "code",
   "execution_count": null,
   "metadata": {},
   "outputs": [],
   "source": [
    "# optimize the fragments using GFN2-xTB\n",
    "from tblite.ase import TBLite\n",
    "\n",
    "opt_calculator = TBLite(method=\"GFN2-xTB\")\n",
    "\n",
    "for n_frag, frag in enumerate(fragments):\n",
    "    rotamers = deepdih.utils.get_rotamers(frag)\n",
    "    dih_results = []\n",
    "    for rot in rotamers:\n",
    "        dih_result_rot = deepdih.geomopt.dihedral_scan(frag, opt_calculator, rot, 12)\n",
    "        dih_results.extend(dih_result_rot)\n",
    "    deepdih.utils.write_sdf(dih_results, f\"fragment_{n_frag}_dihedral_scan.sdf\")"
   ]
  },
  {
   "cell_type": "code",
   "execution_count": null,
   "metadata": {},
   "outputs": [],
   "source": [
    "# recalc single-point energy\n",
    "from ase.calculators.psi4 import Psi4\n",
    "from deepdih.geomopt import recalc_energy\n",
    "\n",
    "for n_frag in range(len(fragments)):\n",
    "    print(f\"Fragment {n_frag}\")\n",
    "    conformations = deepdih.utils.read_sdf(f\"fragment_{n_frag}_dihedral_scan.sdf\")\n",
    "    charge = Chem.GetFormalCharge(conformations[0])\n",
    "    atoms = deepdih.utils.rdmol2atoms(conformations[0])\n",
    "    calculator = Psi4(atoms = atoms,\n",
    "        method = 'wb97x-d',\n",
    "        memory = '8000MB',\n",
    "        basis = 'def2-svp',\n",
    "        num_threads = 8,\n",
    "        charge=int(charge),\n",
    "        multiplicity=1)\n",
    "    recalc_confs = [deepdih.geomopt.recalc_energy(c, calculator) for c in conformations]\n",
    "    deepdih.utils.write_sdf(recalc_confs, f\"fragment_{n_frag}_dihedral_scan_recalc.sdf\")"
   ]
  },
  {
   "cell_type": "code",
   "execution_count": null,
   "metadata": {},
   "outputs": [],
   "source": []
  },
  {
   "cell_type": "code",
   "execution_count": null,
   "metadata": {},
   "outputs": [],
   "source": [
    "atom = conformations[0].GetAtoms()[0]"
   ]
  },
  {
   "cell_type": "code",
   "execution_count": null,
   "metadata": {},
   "outputs": [],
   "source": [
    "atom.GetAtomicNum()"
   ]
  },
  {
   "cell_type": "code",
   "execution_count": null,
   "metadata": {},
   "outputs": [],
   "source": []
  }
 ],
 "metadata": {
  "kernelspec": {
   "display_name": "deepdih",
   "language": "python",
   "name": "python3"
  },
  "language_info": {
   "codemirror_mode": {
    "name": "ipython",
    "version": 3
   },
   "file_extension": ".py",
   "mimetype": "text/x-python",
   "name": "python",
   "nbconvert_exporter": "python",
   "pygments_lexer": "ipython3",
   "version": "3.10.13"
  }
 },
 "nbformat": 4,
 "nbformat_minor": 2
}
