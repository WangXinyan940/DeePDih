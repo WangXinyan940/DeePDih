{
 "cells": [
  {
   "cell_type": "code",
   "execution_count": null,
   "metadata": {},
   "outputs": [],
   "source": [
    "import deepdih\n",
    "from rdkit import Chem\n",
    "import os\n",
    "import numpy as np\n",
    "from tblite.ase import TBLite\n",
    "import matplotlib.pyplot as plt\n",
    "from dp_calculator import DPCalculator"
   ]
  },
  {
   "cell_type": "code",
   "execution_count": null,
   "metadata": {},
   "outputs": [],
   "source": [
    "molecules = []\n",
    "for file in os.listdir(\"molecules\"):\n",
    "    if file.endswith(\".mol\"):\n",
    "        molecules.append(Chem.MolFromMolFile(\"molecules/\"+file, sanitize=True, removeHs=False))\n",
    "fragments = deepdih.mollib.create_lib(molecules)\n",
    "deepdih.utils.write_sdf(fragments, \"fragments.sdf\")"
   ]
  },
  {
   "cell_type": "code",
   "execution_count": null,
   "metadata": {},
   "outputs": [],
   "source": [
    "# optimize the fragments using GFN2-xTB （energy with bias)\n",
    "opt_calculator = DPCalculator(\"model.pt\")\n",
    "\n",
    "if not os.path.exists(\"fragments\"):\n",
    "    os.makedirs(\"fragments\")\n",
    "\n",
    "for n_frag, frag in enumerate(fragments):\n",
    "    rotamers = deepdih.utils.get_rotamers(frag)\n",
    "    dih_results = []\n",
    "    for rot in rotamers:\n",
    "        dih_result_rot = deepdih.geomopt.dihedral_scan(frag, opt_calculator, rot, 12)\n",
    "        dih_results.extend(dih_result_rot)\n",
    "    recalc_confs = [deepdih.geomopt.recalc_energy(c, opt_calculator) for c in dih_results]\n",
    "    deepdih.utils.write_sdf(recalc_confs, f\"fragments/fragment_{n_frag}_dihedral_scan.sdf\")"
   ]
  },
  {
   "cell_type": "code",
   "execution_count": null,
   "metadata": {},
   "outputs": [],
   "source": [
    "fragments = deepdih.utils.read_sdf(\"fragments.sdf\")\n",
    "\n",
    "if not os.path.exists(\"topologies\"):\n",
    "    os.makedirs(\"topologies\")\n",
    "\n",
    "if not os.path.exists(\"mm_relax\"):\n",
    "    os.makedirs(\"mm_relax\")\n",
    "\n",
    "for nfrag in range(len(fragments)):\n",
    "    frag = fragments[nfrag]\n",
    "    deepdih.preparation.build_gmx_top(frag, top=f\"topologies/fragment_{nfrag}.top\")\n",
    "    calculator = deepdih.calculators.GromacsTopCalculator(frag, f\"topologies/fragment_{nfrag}.top\")\n",
    "    init_conformations = deepdih.utils.read_sdf(f\"fragments/fragment_{nfrag}_dihedral_scan.sdf\")\n",
    "    relax_conformations = [deepdih.geomopt.relax_conformation(c, calculator) for c in init_conformations]\n",
    "    recalc_conformations = [deepdih.geomopt.recalc_energy(c, calculator) for c in relax_conformations]\n",
    "    deepdih.utils.write_sdf(recalc_conformations, f\"mm_relax/fragment_{nfrag}_dihedral_scan.sdf\")\n",
    "    deepdih.geomopt.plot_opt_results(recalc_conformations, init_conformations, f\"mm_relax/fragment_{nfrag}_opt.png\")"
   ]
  },
  {
   "cell_type": "code",
   "execution_count": null,
   "metadata": {},
   "outputs": [],
   "source": [
    "fragments = deepdih.utils.read_sdf(\"fragments.sdf\")\n",
    "\n",
    "# prepare training data\n",
    "training_data = []\n",
    "delta_sum = 0.0\n",
    "for nfrag in range(len(fragments)):\n",
    "    frag = fragments[nfrag]\n",
    "    qm_conformations = deepdih.utils.read_sdf(f\"fragments/fragment_{nfrag}_dihedral_scan.sdf\")\n",
    "    mm_conformations = deepdih.utils.read_sdf(f\"mm_relax/fragment_{nfrag}_dihedral_scan.sdf\")\n",
    "\n",
    "    tmp_embedded_mol = deepdih.utils.TorEmbeddedMolecule(mm_conformations[0])\n",
    "    torsions = [tor.torsion for tor in tmp_embedded_mol.torsions]\n",
    "    calculator = deepdih.calculators.GromacsTopCalculator(frag, f\"topologies/fragment_{nfrag}.top\", turnoff_propers=torsions)\n",
    "    recalc_conformations = [deepdih.geomopt.recalc_energy(c, calculator) for c in mm_conformations]\n",
    "\n",
    "    mm_positions = [c.GetConformer().GetPositions() for c in mm_conformations]\n",
    "    qm_energies = np.array([float(c.GetProp(\"ENERGY\")) for c in qm_conformations])\n",
    "    mm_energies = np.array([float(c.GetProp(\"ENERGY\")) for c in recalc_conformations])\n",
    "    qm_energies = qm_energies - qm_energies.mean()\n",
    "    mm_energies = mm_energies - mm_energies.mean()\n",
    "    delta_energies = qm_energies - mm_energies # In Hartree\n",
    "    delta_energies = delta_energies / deepdih.utils.EV_TO_HARTREE * deepdih.utils.EV_TO_KJ_MOL # In kJ/mol\n",
    "    embedded_mol = deepdih.utils.TorEmbeddedMolecule(mm_conformations[0], conf=mm_positions, target=delta_energies)\n",
    "    training_data.append(embedded_mol)"
   ]
  },
  {
   "cell_type": "code",
   "execution_count": null,
   "metadata": {},
   "outputs": [],
   "source": [
    "params = deepdih.finetune.finetune_workflow(training_data, n_fold=3)\n",
    "\n",
    "# save the parameters\n",
    "import pickle\n",
    "\n",
    "with open(\"params.pkl\", \"wb\") as f:\n",
    "    pickle.dump(params, f)"
   ]
  },
  {
   "cell_type": "code",
   "execution_count": null,
   "metadata": {},
   "outputs": [],
   "source": [
    "# load parameters\n",
    "import pickle\n",
    "\n",
    "fragments = deepdih.utils.read_sdf(\"fragments.sdf\")\n",
    "with open(\"params.pkl\", \"rb\") as f:\n",
    "    params = pickle.load(f)\n",
    "\n",
    "if not os.path.exists(\"top_tuned\"):\n",
    "    os.makedirs(\"top_tuned\")\n",
    "\n",
    "for nfrag in range(len(fragments)):\n",
    "    frag = fragments[nfrag]\n",
    "    inp_top = f\"topologies/fragment_{nfrag}.top\"\n",
    "    out_top = f\"top_tuned/fragment_{nfrag}.top\"\n",
    "    deepdih.finetune.update_gmx_top(frag, inp_top, params, out_top)"
   ]
  },
  {
   "cell_type": "code",
   "execution_count": null,
   "metadata": {},
   "outputs": [],
   "source": [
    "# valid original\n",
    "for nfrag in range(len(fragments)):\n",
    "    frag = fragments[nfrag]\n",
    "    calculator = deepdih.calculators.GromacsTopCalculator(frag, f\"topologies/fragment_{nfrag}.top\")\n",
    "    init_conformations = deepdih.utils.read_sdf(f\"fragments/fragment_{nfrag}_dihedral_scan.sdf\")\n",
    "    relax_conformations = deepdih.utils.read_sdf(f\"mm_relax/fragment_{nfrag}_dihedral_scan.sdf\")\n",
    "    recalc_conformations = [deepdih.geomopt.recalc_energy(c, calculator) for c in relax_conformations]\n",
    "    r2, rmse = deepdih.geomopt.plot_opt_results(recalc_conformations, init_conformations, f\"mm_relax/fragment_{nfrag}_opt.png\")\n",
    "    print(f\"Frag {nfrag} R2: {r2:.3f}, RMSE: {rmse:.3f}\")\n",
    "\n",
    "# valid\n",
    "print(\"====== Valid ======\")\n",
    "if not os.path.exists(\"mm_valid\"):\n",
    "    os.makedirs(\"mm_valid\")\n",
    "\n",
    "for nfrag in range(len(fragments)):\n",
    "    frag = fragments[nfrag]\n",
    "    calculator = deepdih.calculators.GromacsTopCalculator(frag, f\"top_tuned/fragment_{nfrag}.top\")\n",
    "    init_conformations = deepdih.utils.read_sdf(f\"fragments/fragment_{nfrag}_dihedral_scan.sdf\")\n",
    "    relax_conformations = deepdih.utils.read_sdf(f\"mm_relax/fragment_{nfrag}_dihedral_scan.sdf\")\n",
    "    recalc_conformations = [deepdih.geomopt.recalc_energy(c, calculator) for c in relax_conformations]\n",
    "    deepdih.utils.write_sdf(recalc_conformations, f\"mm_valid/fragment_{nfrag}_dihedral_scan.sdf\")\n",
    "    r2, rmse = deepdih.geomopt.plot_opt_results(recalc_conformations, init_conformations, f\"mm_valid/fragment_{nfrag}_opt.png\")\n",
    "    print(f\"Frag {nfrag} R2: {r2:.3f}, RMSE: {rmse:.3f}\")"
   ]
  },
  {
   "cell_type": "code",
   "execution_count": null,
   "metadata": {},
   "outputs": [],
   "source": [
    "# patch molecules \n",
    "if not os.path.exists(\"molecules_patched\"):\n",
    "    os.makedirs(\"molecules_patched\")\n",
    "\n",
    "molecules = {}\n",
    "for file in os.listdir(\"molecules\"):\n",
    "    if file.endswith(\".mol\"):\n",
    "        molecules[file] = Chem.MolFromMolFile(\"molecules/\"+file, sanitize=True, removeHs=False)\n",
    "\n",
    "import pickle\n",
    "\n",
    "with open(\"params.pkl\", \"rb\") as f:\n",
    "    params = pickle.load(f)\n",
    "\n",
    "for file in molecules:\n",
    "    frag = molecules[file]\n",
    "    name = file.split(\".\")[0]\n",
    "    inp_top = f\"molecules/{name}.top\"\n",
    "    out_top = f\"molecules_patched/{name}.top\"\n",
    "    deepdih.preparation.build_gmx_top(frag, top=inp_top)\n",
    "    deepdih.finetune.update_gmx_top(frag, inp_top, params, out_top)"
   ]
  },
  {
   "cell_type": "code",
   "execution_count": null,
   "metadata": {},
   "outputs": [],
   "source": []
  }
 ],
 "metadata": {
  "kernelspec": {
   "display_name": "deepdih",
   "language": "python",
   "name": "python3"
  },
  "language_info": {
   "codemirror_mode": {
    "name": "ipython",
    "version": 3
   },
   "file_extension": ".py",
   "mimetype": "text/x-python",
   "name": "python",
   "nbconvert_exporter": "python",
   "pygments_lexer": "ipython3",
   "version": "3.10.13"
  }
 },
 "nbformat": 4,
 "nbformat_minor": 2
}
